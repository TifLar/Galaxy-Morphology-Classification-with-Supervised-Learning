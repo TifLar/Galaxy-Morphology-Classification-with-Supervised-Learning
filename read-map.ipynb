{
 "cells": [
  {
   "cell_type": "code",
   "execution_count": 1,
   "id": "aa8421b1",
   "metadata": {
    "_cell_guid": "b1076dfc-b9ad-4769-8c92-a6c4dae69d19",
    "_uuid": "8f2839f25d086af736a60e9eeb907d3b93b6e0e5",
    "execution": {
     "iopub.execute_input": "2024-07-03T20:18:48.976841Z",
     "iopub.status.busy": "2024-07-03T20:18:48.975953Z",
     "iopub.status.idle": "2024-07-03T20:18:49.741301Z",
     "shell.execute_reply": "2024-07-03T20:18:49.740035Z"
    },
    "papermill": {
     "duration": 0.771705,
     "end_time": "2024-07-03T20:18:49.743893",
     "exception": false,
     "start_time": "2024-07-03T20:18:48.972188",
     "status": "completed"
    },
    "tags": []
   },
   "outputs": [],
   "source": [
    "import pandas as pd\n",
    "import os"
   ]
  },
  {
   "cell_type": "code",
   "execution_count": 2,
   "id": "226fe294",
   "metadata": {
    "execution": {
     "iopub.execute_input": "2024-07-03T20:18:49.749846Z",
     "iopub.status.busy": "2024-07-03T20:18:49.749354Z",
     "iopub.status.idle": "2024-07-03T20:18:50.662882Z",
     "shell.execute_reply": "2024-07-03T20:18:50.661898Z"
    },
    "papermill": {
     "duration": 0.91856,
     "end_time": "2024-07-03T20:18:50.665116",
     "exception": false,
     "start_time": "2024-07-03T20:18:49.746556",
     "status": "completed"
    },
    "tags": []
   },
   "outputs": [
    {
     "data": {
      "text/html": [
       "<div>\n",
       "<style scoped>\n",
       "    .dataframe tbody tr th:only-of-type {\n",
       "        vertical-align: middle;\n",
       "    }\n",
       "\n",
       "    .dataframe tbody tr th {\n",
       "        vertical-align: top;\n",
       "    }\n",
       "\n",
       "    .dataframe thead th {\n",
       "        text-align: right;\n",
       "    }\n",
       "</style>\n",
       "<table border=\"1\" class=\"dataframe\">\n",
       "  <thead>\n",
       "    <tr style=\"text-align: right;\">\n",
       "      <th></th>\n",
       "      <th>objid</th>\n",
       "      <th>sample</th>\n",
       "      <th>asset_id</th>\n",
       "    </tr>\n",
       "  </thead>\n",
       "  <tbody>\n",
       "    <tr>\n",
       "      <th>0</th>\n",
       "      <td>587722981736120347</td>\n",
       "      <td>original</td>\n",
       "      <td>1</td>\n",
       "    </tr>\n",
       "    <tr>\n",
       "      <th>1</th>\n",
       "      <td>587722981736579107</td>\n",
       "      <td>original</td>\n",
       "      <td>2</td>\n",
       "    </tr>\n",
       "    <tr>\n",
       "      <th>2</th>\n",
       "      <td>587722981741363294</td>\n",
       "      <td>original</td>\n",
       "      <td>3</td>\n",
       "    </tr>\n",
       "    <tr>\n",
       "      <th>3</th>\n",
       "      <td>587722981741363323</td>\n",
       "      <td>original</td>\n",
       "      <td>4</td>\n",
       "    </tr>\n",
       "    <tr>\n",
       "      <th>4</th>\n",
       "      <td>587722981741559888</td>\n",
       "      <td>original</td>\n",
       "      <td>5</td>\n",
       "    </tr>\n",
       "    <tr>\n",
       "      <th>5</th>\n",
       "      <td>587722981741625481</td>\n",
       "      <td>original</td>\n",
       "      <td>6</td>\n",
       "    </tr>\n",
       "    <tr>\n",
       "      <th>6</th>\n",
       "      <td>587722981741625484</td>\n",
       "      <td>original</td>\n",
       "      <td>7</td>\n",
       "    </tr>\n",
       "    <tr>\n",
       "      <th>7</th>\n",
       "      <td>587722981741625520</td>\n",
       "      <td>original</td>\n",
       "      <td>8</td>\n",
       "    </tr>\n",
       "    <tr>\n",
       "      <th>8</th>\n",
       "      <td>587722981741625545</td>\n",
       "      <td>original</td>\n",
       "      <td>9</td>\n",
       "    </tr>\n",
       "    <tr>\n",
       "      <th>9</th>\n",
       "      <td>587722981741691055</td>\n",
       "      <td>original</td>\n",
       "      <td>10</td>\n",
       "    </tr>\n",
       "  </tbody>\n",
       "</table>\n",
       "</div>"
      ],
      "text/plain": [
       "                objid    sample  asset_id\n",
       "0  587722981736120347  original         1\n",
       "1  587722981736579107  original         2\n",
       "2  587722981741363294  original         3\n",
       "3  587722981741363323  original         4\n",
       "4  587722981741559888  original         5\n",
       "5  587722981741625481  original         6\n",
       "6  587722981741625484  original         7\n",
       "7  587722981741625520  original         8\n",
       "8  587722981741625545  original         9\n",
       "9  587722981741691055  original        10"
      ]
     },
     "execution_count": 2,
     "metadata": {},
     "output_type": "execute_result"
    }
   ],
   "source": [
    "mapping = pd.read_csv('/kaggle/input/galaxy-zoo-2-images/gz2_filename_mapping.csv') # load from notebook input\n",
    "mapping.to_csv('map.csv',index=False) # save to notebook output\n",
    "mapping.head(10)"
   ]
  },
  {
   "cell_type": "code",
   "execution_count": 3,
   "id": "5620ae21",
   "metadata": {
    "execution": {
     "iopub.execute_input": "2024-07-03T20:18:50.670206Z",
     "iopub.status.busy": "2024-07-03T20:18:50.669875Z",
     "iopub.status.idle": "2024-07-03T20:18:50.673768Z",
     "shell.execute_reply": "2024-07-03T20:18:50.672852Z"
    },
    "papermill": {
     "duration": 0.0087,
     "end_time": "2024-07-03T20:18:50.675789",
     "exception": false,
     "start_time": "2024-07-03T20:18:50.667089",
     "status": "completed"
    },
    "tags": []
   },
   "outputs": [],
   "source": [
    "#os.chdir(r'/kaggle/working')\n",
    "#FileLink(r'map.csv')"
   ]
  }
 ],
 "metadata": {
  "kaggle": {
   "accelerator": "none",
   "dataSources": [
    {
     "datasetId": 1120594,
     "sourceId": 1881640,
     "sourceType": "datasetVersion"
    }
   ],
   "dockerImageVersionId": 30732,
   "isGpuEnabled": false,
   "isInternetEnabled": false,
   "language": "python",
   "sourceType": "notebook"
  },
  "kernelspec": {
   "display_name": "Python 3",
   "language": "python",
   "name": "python3"
  },
  "language_info": {
   "codemirror_mode": {
    "name": "ipython",
    "version": 3
   },
   "file_extension": ".py",
   "mimetype": "text/x-python",
   "name": "python",
   "nbconvert_exporter": "python",
   "pygments_lexer": "ipython3",
   "version": "3.10.13"
  },
  "papermill": {
   "default_parameters": {},
   "duration": 4.668129,
   "end_time": "2024-07-03T20:18:51.096086",
   "environment_variables": {},
   "exception": null,
   "input_path": "__notebook__.ipynb",
   "output_path": "__notebook__.ipynb",
   "parameters": {},
   "start_time": "2024-07-03T20:18:46.427957",
   "version": "2.5.0"
  }
 },
 "nbformat": 4,
 "nbformat_minor": 5
}
